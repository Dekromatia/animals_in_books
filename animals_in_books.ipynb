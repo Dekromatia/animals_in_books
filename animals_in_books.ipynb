{
  "nbformat": 4,
  "nbformat_minor": 0,
  "metadata": {
    "colab": {
      "name": "+++animals_in_book+++",
      "provenance": [],
      "collapsed_sections": []
    },
    "kernelspec": {
      "name": "python3",
      "display_name": "Python 3"
    },
    "language_info": {
      "name": "python"
    }
  },
  "cells": [
    {
      "cell_type": "code",
      "source": [
        "import os\n",
        "import nltk"
      ],
      "metadata": {
        "id": "NEaSPyjIKKFX"
      },
      "execution_count": 1,
      "outputs": []
    },
    {
      "cell_type": "code",
      "source": [
        "import re\n",
        "!pip install pymorphy2"
      ],
      "metadata": {
        "id": "5DT3f9yFF5Ce"
      },
      "execution_count": null,
      "outputs": []
    },
    {
      "cell_type": "code",
      "source": [
        "import pandas as pd"
      ],
      "metadata": {
        "id": "OgfZ0zNqnPsF"
      },
      "execution_count": 15,
      "outputs": []
    },
    {
      "cell_type": "code",
      "source": [
        "os.listdir(\"corpus\")"
      ],
      "metadata": {
        "id": "AF7LYo-jKOF9"
      },
      "execution_count": null,
      "outputs": []
    },
    {
      "cell_type": "code",
      "source": [
        "!wget https://raw.githubusercontent.com/dhhse/dh2020/master/data/stop_ru.txt"
      ],
      "metadata": {
        "id": "kgwG4-WbaVSv"
      },
      "execution_count": null,
      "outputs": []
    },
    {
      "cell_type": "code",
      "source": [
        "with open('stop_ru.txt', 'r') as stop_list_file:\n",
        "    stop_list_as_list = stop_list_file.readlines()\n",
        "    stop_words = [line.strip() for line in stop_list_as_list]"
      ],
      "metadata": {
        "id": "5ZsJdoZuaaNn"
      },
      "execution_count": 7,
      "outputs": []
    },
    {
      "cell_type": "code",
      "source": [
        "def read_book(path_to_file: str):\n",
        "  path_to_file = 'corpus/' + path_to_file\n",
        "  with open(path_to_file, 'r') as book: \n",
        "    book = book.read()\n",
        "  return book"
      ],
      "metadata": {
        "id": "leRc1-L-Llm3"
      },
      "execution_count": 9,
      "outputs": []
    },
    {
      "cell_type": "code",
      "source": [
        "from nltk.tokenize import word_tokenize #токенизация\n",
        "nltk.download('punkt')"
      ],
      "metadata": {
        "id": "zUUYHn75ae6a"
      },
      "execution_count": null,
      "outputs": []
    },
    {
      "cell_type": "code",
      "source": [
        "def tokenize (book: str, stop_words: list):\n",
        "  book_tokenized = word_tokenize(book.lower())\n",
        "  book_no_punct = [word for word in book_tokenized if word[0].isalpha()]\n",
        "  tokens = [word for word in book_no_punct  if word not in stop_words]\n",
        "  return tokens"
      ],
      "metadata": {
        "id": "C3ITJ8E6Zncs"
      },
      "execution_count": 10,
      "outputs": []
    },
    {
      "cell_type": "code",
      "source": [
        "from pymorphy2 import MorphAnalyzer\n",
        "morph = MorphAnalyzer()"
      ],
      "metadata": {
        "id": "1PctkfHgY5JY"
      },
      "execution_count": 18,
      "outputs": []
    },
    {
      "cell_type": "code",
      "source": [
        "def lemmatize (tokens):\n",
        "  lemmas = [morph.parse(word)[0].normal_form for word in tokens]\n",
        "  return lemmas"
      ],
      "metadata": {
        "id": "C365KaoYdqnk"
      },
      "execution_count": 22,
      "outputs": []
    },
    {
      "cell_type": "code",
      "source": [
        "!wget https://raw.githubusercontent.com/Dekromatia/Graph_animals/main/animal_list.txt"
      ],
      "metadata": {
        "id": "fNOPfHq2QRvL"
      },
      "execution_count": null,
      "outputs": []
    },
    {
      "cell_type": "code",
      "source": [
        "with open('animal_list.txt', 'r') as animal_file:\n",
        "    animal_as_list = animal_file.readlines()\n",
        "    animal_words = [line.strip() for line in animal_as_list]\n",
        "    animals = [word.lower() for word in animal_words]"
      ],
      "metadata": {
        "id": "x6OqIfiqngmY"
      },
      "execution_count": 24,
      "outputs": []
    },
    {
      "cell_type": "code",
      "source": [
        "def find_animals (lemmas, animals):\n",
        "  animals_book = [word for word in lemmas if word in animals]\n",
        "  book_animals = list(set(animals_book))\n",
        "  #with open ('Akimushkit_Chem_krolik_na_zayca_ne_pohozh_animals.txt', 'w') as f:\n",
        "  #for x in unic_animals_book:\n",
        "  # f.write(x +\"\\n\")\n",
        "  return book_animals"
      ],
      "metadata": {
        "id": "MSx2Yuisdqx8"
      },
      "execution_count": 33,
      "outputs": []
    },
    {
      "cell_type": "code",
      "source": [
        "paths = os.listdir('corpus')\n",
        "book2animals = {} # СЛОВАРЬ №1 ключ - название книги, значение - список животных\n",
        "for path in paths:\n",
        "  book = read_book(path)\n",
        "  tokens = tokenize(book, stop_words)\n",
        "  lemmas = lemmatize(tokens) # лемматизируем\n",
        "  book_animals = find_animals(lemmas, animals) # animals берем из файла в виде списка слов\n",
        "\n",
        "  path = path.strip('.txt')\n",
        "  book2animals[path] = book_animals #создаем словарь книга-ключ; список животных - значение"
      ],
      "metadata": {
        "id": "H14oc0txQB7A"
      },
      "execution_count": 35,
      "outputs": []
    },
    {
      "cell_type": "code",
      "source": [
        "#меняем местами ключ и значение, тепрь животное - ключ а список книг - значение\n",
        "def aggregate_books(book2animals):\n",
        "  animal2books = {}\n",
        "  for book, animals in book2animals.items():\n",
        "    for animal in animals:\n",
        "      if animal in animal2books:\n",
        "        animal2books[animal].append(book)\n",
        "      if animal not in animal2books:\n",
        "        animal2books[animal]=[book]       \n",
        "  return animal2books "
      ],
      "metadata": {
        "id": "QscRZYSJUDBr"
      },
      "execution_count": 37,
      "outputs": []
    },
    {
      "cell_type": "code",
      "source": [
        "#СЛОВАРЬ №2\n",
        "animal2books = aggregate_books(book2animals)"
      ],
      "metadata": {
        "id": "d87kQUgWd0HI"
      },
      "execution_count": 38,
      "outputs": []
    },
    {
      "cell_type": "code",
      "source": [
        "animal2books"
      ],
      "metadata": {
        "id": "6vGh17qe1jRz"
      },
      "execution_count": null,
      "outputs": []
    },
    {
      "cell_type": "code",
      "source": [
        "with open ('for_easy_linavis.txt', 'w') as f:\n",
        "  for key, value  in animal2books.items():\n",
        "    if len(value)>1:\n",
        "      print(len(value))\n",
        "      f.write(\"#\" + key +'\\n')\n",
        "      for name in value:\n",
        "        f.write(name + '\\n')"
      ],
      "metadata": {
        "colab": {
          "base_uri": "https://localhost:8080/"
        },
        "id": "syCPo9KZzFvI",
        "outputId": "8e610718-0e3d-4ed5-a434-67bf38c4d957"
      },
      "execution_count": 84,
      "outputs": [
        {
          "output_type": "stream",
          "name": "stdout",
          "text": [
          ]
        }
      ]
    }
  ]
}
